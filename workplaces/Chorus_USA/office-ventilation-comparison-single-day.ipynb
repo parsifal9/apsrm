{
 "cells": [
  {
   "cell_type": "markdown",
   "id": "f80522a2",
   "metadata": {},
   "source": [
    "# Compare Results With and Without Inter-room Air Movement\n",
    "\n",
    "Here we run two simulations in our simple office. In the first, we only include air exchange between the rooms and the HVAC system, and in the second, we also include air exchange between adjacent rooms.\n",
    "\n",
    "We infect some people and run a single day in a repeatable way to compare the concentrations in the various rooms."
   ]
  },
  {
   "cell_type": "code",
   "execution_count": null,
   "id": "2858024d",
   "metadata": {},
   "outputs": [],
   "source": [
    "import os\n",
    "import random\n",
    "from copy import deepcopy\n",
    "import numpy as np\n",
    "import matplotlib.pyplot as plt\n",
    "from apsrm import Box\n",
    "from apsrm.config import DEFAULT_STRAIN\n",
    "from apsrm.ext.plot import shedding_plot, plot_concentrations\n",
    "from apsrm.ext.simulation import create_pathogen\n",
    "from utils import (\n",
    "    BOX_TYPE,\n",
    "    create_workplace,\n",
    "    create_emissions_calculator)\n",
    "\n",
    "OUTPUT_BASE_DIR = './output'\n",
    "def opath(p):\n",
    "    bd = OUTPUT_BASE_DIR if os.path.exists(OUTPUT_BASE_DIR) else '.'\n",
    "    return os.path.join(bd, 'vent_comp_{}'.format(p))\n",
    "\n",
    "seed = 1\n",
    "hvac_recirculation_rate = 0.7\n",
    "n_singers = 61\n",
    "external_acph = 1.\n",
    "\n",
    "hvac = Box(1., BOX_TYPE.HVAC, 0, name='hvac')\n",
    "\n",
    "workplace = create_workplace(n_singers=n_singers)\n",
    "workplace.add_box(hvac)\n",
    "\n",
    "boxes = workplace.boxes\n",
    "n_boxes = len(boxes)\n",
    "\n",
    "# Note that this just contains volume because we multiply this by apprpriate things below.\n",
    "ventilation_matrix = np.zeros((n_boxes, n_boxes))\n",
    "ventilation_matrix[:,hvac.box_index] = ventilation_matrix[hvac.box_index,:] = np.array([b.volume for b in boxes])\n",
    "ventilation_matrix[hvac.box_index, hvac.box_index] = 0.\n",
    "\n",
    "external_ventilation = np.zeros(n_boxes)\n",
    "external_ventilation[hvac.box_index] = external_acph * (sum([b.volume for b in boxes]) - hvac.volume)\n",
    "\n",
    "pathogen = create_pathogen(DEFAULT_STRAIN)\n",
    "emissions_calculator = create_emissions_calculator(pathogen)\n",
    "\n",
    "day_of_simulation = 0\n",
    "def reset():\n",
    "    np.random.seed(seed=seed)\n",
    "    random.seed(seed)\n",
    "    workplace.reset(True)\n",
    "    for i in range(day_of_simulation-4, day_of_simulation):\n",
    "        workplace.infect_random_persons(pathogen, i)"
   ]
  },
  {
   "cell_type": "code",
   "execution_count": null,
   "id": "db556772",
   "metadata": {
    "scrolled": false
   },
   "outputs": [],
   "source": [
    "reset()\n",
    "workplace.run_period(0, pathogen, emissions_calculator)"
   ]
  },
  {
   "cell_type": "markdown",
   "id": "31fc694d",
   "metadata": {},
   "source": [
    "## No Air Exchange"
   ]
  },
  {
   "cell_type": "code",
   "execution_count": null,
   "id": "1545d6c1",
   "metadata": {},
   "outputs": [],
   "source": [
    "no_hvac_boxes = deepcopy(workplace.boxes)\n",
    "no_hvac_vs = deepcopy(workplace.ventilation_system)\n",
    "shedding_plot(\n",
    "    workplace,\n",
    "    show_boxes=False,\n",
    "    show_concentrations=True)"
   ]
  },
  {
   "cell_type": "markdown",
   "id": "472d7b32",
   "metadata": {},
   "source": [
    "## HVAC setup as no HVA\n",
    "\n",
    "Results should be almost identical to above."
   ]
  },
  {
   "cell_type": "code",
   "execution_count": null,
   "id": "25d636b0",
   "metadata": {},
   "outputs": [],
   "source": [
    "# Doesn't matter if we include the HVAC box here (never has shedding in it).\n",
    "workplace.set_ventilation_properties(\n",
    "    external_ventilation = np.array([external_acph * b.volume for b in workplace.boxes]),\n",
    "    force_standard_hvac_system = True)\n",
    "reset()\n",
    "workplace.run_period(day_of_simulation, pathogen, emissions_calculator)\n",
    "shedding_plot(\n",
    "    workplace,\n",
    "    show_boxes=False,\n",
    "    show_concentrations=True)\n",
    "zero_hvac_boxes = deepcopy(workplace.boxes)\n",
    "zero_hvac_vs = deepcopy(workplace.ventilation_system)"
   ]
  },
  {
   "cell_type": "markdown",
   "id": "e8282942",
   "metadata": {},
   "source": [
    "## Exchange With HVAC Only"
   ]
  },
  {
   "cell_type": "code",
   "execution_count": null,
   "id": "d197c7a9",
   "metadata": {},
   "outputs": [],
   "source": [
    "workplace.set_ventilation_properties(\n",
    "    ventilation_matrix = hvac_recirculation_rate * ventilation_matrix,\n",
    "    hvac_box_type = hvac.use,\n",
    "    external_ventilation = external_ventilation)\n",
    "reset()\n",
    "workplace.run_period(day_of_simulation, pathogen, emissions_calculator)\n",
    "shedding_plot(\n",
    "    workplace,\n",
    "    show_boxes=False,\n",
    "    show_concentrations=True)\n",
    "hvac_only_boxes = deepcopy(workplace.boxes)\n",
    "hvac_only_vs = deepcopy(workplace.ventilation_system)"
   ]
  },
  {
   "cell_type": "markdown",
   "id": "7eaaeea3",
   "metadata": {},
   "source": [
    "## Exchange With HVAC and Rooms"
   ]
  },
  {
   "cell_type": "code",
   "execution_count": null,
   "id": "1c470998",
   "metadata": {
    "scrolled": true
   },
   "outputs": [],
   "source": [
    "rooms = np.array([\n",
    "    [   0.  ,    0.  ,    0.  ,  270.  ,    0.  , 0.],\n",
    "    [   0.  ,    0.  ,    0.  ,   75.  ,    0.  , 0.],\n",
    "    [   0.  ,    0.  ,    0.  ,  371.25,    0.  , 0.],\n",
    "    [ 270.  ,   75.  ,  371.25,    0.  , 1305.  , 0.],\n",
    "    [   0.  ,    0.  ,    0.  , 1305.  ,    0.  , 0.],\n",
    "    [   0.  ,    0.  ,    0.  ,    0.  ,    0.  , 0.]])\n",
    "workplace.set_ventilation_properties(\n",
    "    ventilation_matrix = hvac_recirculation_rate * ventilation_matrix + rooms,\n",
    "    hvac_box_type = hvac.use,\n",
    "    external_ventilation = external_ventilation)\n",
    "reset()\n",
    "workplace.run_period(day_of_simulation, pathogen, emissions_calculator)\n",
    "shedding_plot(\n",
    "    workplace,\n",
    "    show_boxes=False,\n",
    "    show_concentrations=True)\n",
    "hvac_and_rooms_boxes = deepcopy(workplace.boxes)\n",
    "hvac_and_rooms_vs = deepcopy(workplace.ventilation_system)"
   ]
  },
  {
   "cell_type": "markdown",
   "id": "e9cf891d",
   "metadata": {},
   "source": [
    "## Exchange with HVAC Only at Half Rate"
   ]
  },
  {
   "cell_type": "code",
   "execution_count": null,
   "id": "a28c5bcd",
   "metadata": {},
   "outputs": [],
   "source": [
    "workplace.set_ventilation_properties(\n",
    "    ventilation_matrix = .5 * hvac_recirculation_rate * ventilation_matrix,\n",
    "    hvac_box_type = hvac.use,\n",
    "    external_ventilation = external_ventilation)\n",
    "reset()\n",
    "workplace.run_period(day_of_simulation, pathogen, emissions_calculator)\n",
    "shedding_plot(\n",
    "    workplace,\n",
    "    show_boxes=False,\n",
    "    show_concentrations=True)\n",
    "half_hvac_boxes = deepcopy(workplace.boxes)\n",
    "half_hvac_vs = deepcopy(workplace.ventilation_system)"
   ]
  },
  {
   "cell_type": "markdown",
   "id": "ff342b6c",
   "metadata": {},
   "source": [
    "## Portable Air Filters"
   ]
  },
  {
   "cell_type": "code",
   "execution_count": null,
   "id": "6adafc47",
   "metadata": {},
   "outputs": [],
   "source": [
    "workplace.set_ventilation_properties(\n",
    "    ventilation_matrix = hvac_recirculation_rate * ventilation_matrix + rooms,\n",
    "    hvac_box_type = hvac.use,\n",
    "    external_ventilation = external_ventilation,\n",
    "    internal_filtering_efficiency = .8,\n",
    "    internal_filtering_volume = 350.)\n",
    "reset()\n",
    "workplace.run_period(day_of_simulation, pathogen, emissions_calculator)\n",
    "shedding_plot(\n",
    "    workplace,\n",
    "    show_boxes=False,\n",
    "    show_concentrations=True)\n",
    "hvac_portable_boxes = deepcopy(workplace.boxes)\n",
    "hvac_portable_vs = deepcopy(workplace.ventilation_system)"
   ]
  },
  {
   "cell_type": "code",
   "execution_count": null,
   "id": "586a8c7f",
   "metadata": {},
   "outputs": [],
   "source": [
    "boxess = (zero_hvac_boxes, hvac_only_boxes, hvac_and_rooms_boxes, half_hvac_boxes)#, hvac_portable_boxes)\n",
    "vss = (zero_hvac_vs, hvac_only_vs, hvac_and_rooms_vs, half_hvac_vs)#, hvac_portable_vs)\n",
    "titles = ('No HVAC', 'HVAC Only', 'HVAC and Rooms', '50% HVAC and Rooms')#, 'e. Portable AF')\n",
    "\n",
    "day_start = workplace.day_start\n",
    "day_end = workplace.day_end\n",
    "\n",
    "times = np.arange(day_start, day_end, 1./60.)\n",
    "max_conc = 1.05 * np.max(zero_hvac_vs.current_soln.y)\n",
    "\n",
    "fig, axs = plt.subplots(len(boxess), figsize=(10, 3. * len(boxess)))\n",
    "#fig.tight_layout()\n",
    "fig.subplots_adjust(hspace=0.26)\n",
    "\n",
    "for i, (boxes, vs, title, ax) in enumerate(zip(boxess, vss, titles, axs)):\n",
    "    plot_concentrations(\n",
    "        ax,\n",
    "        vs,\n",
    "        boxes,\n",
    "        day_start,\n",
    "        day_end,\n",
    "        title = title,\n",
    "        x_axs_title = 'Time of Day' if i == len(boxess) - 1 else None,\n",
    "        ylim = [0, max_conc],\n",
    "        include_legend = i == len(boxess) - 1)\n",
    "plt.tight_layout()\n",
    "plt.savefig(opath('conc_combined.pdf'))#, bbox_inches='tight')"
   ]
  }
 ],
 "metadata": {
  "kernelspec": {
   "display_name": "Python 3 (ipykernel)",
   "language": "python",
   "name": "python3"
  },
  "language_info": {
   "codemirror_mode": {
    "name": "ipython",
    "version": 3
   },
   "file_extension": ".py",
   "mimetype": "text/x-python",
   "name": "python",
   "nbconvert_exporter": "python",
   "pygments_lexer": "ipython3",
   "version": "3.8.10"
  }
 },
 "nbformat": 4,
 "nbformat_minor": 5
}
