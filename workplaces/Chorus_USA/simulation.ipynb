{
 "cells": [
  {
   "cell_type": "markdown",
   "id": "b3e00217",
   "metadata": {},
   "source": [
    "# A Model of an Office"
   ]
  },
  {
   "cell_type": "markdown",
   "id": "86265efd",
   "metadata": {},
   "source": [
    "## Imports"
   ]
  },
  {
   "cell_type": "code",
   "execution_count": 1,
   "id": "ebd5b8c6",
   "metadata": {},
   "outputs": [],
   "source": [
    "import os\n",
    "import pickle\n",
    "from itertools import repeat\n",
    "from multiprocessing import Pool\n",
    "import numpy as np\n",
    "import pandas as pd\n",
    "from pandas.api.types import CategoricalDtype\n",
    "import matplotlib.pyplot as plt\n",
    "from tqdm.notebook import tqdm\n",
    "from apsrm import PCRTest, Person, Box, Vaccine\n",
    "from apsrm.config import POOL_NCORES, DEFAULT_STRAIN\n",
    "from apsrm.ext.multiprocessing import ProcessSeeder\n",
    "from apsrm.ext.simulation import (\n",
    "    create_pathogen,\n",
    "    run_simulation,\n",
    "    generate_means_tables,\n",
    "    plot_histograms)\n",
    "from utils import (\n",
    "    BOX_TYPE,\n",
    "    create_workplace,\n",
    "    create_emissions_calculator)\n",
    "\n",
    "pathogen_name = DEFAULT_STRAIN\n",
    "\n",
    "OUTPUT_BASE_DIR = '../../outputs/office'\n",
    "OUTPUT_BASE_DIR = OUTPUT_BASE_DIR if os.path.exists(OUTPUT_BASE_DIR) else '.'\n",
    "OUTPUT_PREFIX = 'stage_1_with_hvac_{}'.format(pathogen_name)\n",
    "def opath(p): return os.path.join(OUTPUT_BASE_DIR, '{}_{}'.format(OUTPUT_PREFIX, p))\n",
    "\n",
    "output_pickle = os.path.join(OUTPUT_BASE_DIR, 'all_results.pkl')\n",
    "run_analyses = not os.path.exists(output_pickle)\n",
    "process_seeder = ProcessSeeder()\n",
    "\n",
    "def run_job(workplace, runner, R, intervention_name):\n",
    "    if run_analyses:\n",
    "        process_seeder.reset()\n",
    "        with Pool(POOL_NCORES, initializer=process_seeder) as pool:\n",
    "            work = pool.imap_unordered(runner, range(R))\n",
    "            return pd.DataFrame(tqdm(work, total=R)).assign(intervention=intervention_name), intervention_name\n",
    "\n",
    "def no_reset_standard_runner(*args):\n",
    "    return run_simulation(workplace, pathogen, emissions_calculator, pcrtest)\n",
    "\n",
    "def standard_runner(*args):\n",
    "    workplace.reset(full=True)\n",
    "    return no_reset_standard_runner(*args)\n",
    "    \n",
    "def poc_runner(*args):\n",
    "    workplace.reset(full=True)\n",
    "    return run_simulation(workplace, pathogen, emissions_calculator, pcrtest, testing_fraction)"
   ]
  },
  {
   "cell_type": "markdown",
   "id": "b29ae140",
   "metadata": {},
   "source": [
    "## Values for Scenarios"
   ]
  },
  {
   "cell_type": "code",
   "execution_count": 2,
   "id": "2a3dec44",
   "metadata": {},
   "outputs": [],
   "source": [
    "R = 192\n",
    "n_workers = 40\n",
    "with_hvac = True\n",
    "force_standard_hvac = True\n",
    "\n",
    "testing_fraction = 1.\n",
    "mask_efficiency = .8\n",
    "external_acph = 1.\n",
    "hvac_acph = 7.\n",
    "increased_external_acph = 7.\n",
    "hvac_return_filtering_efficiency = .85\n",
    "internal_filtering_efficiency = .95\n",
    "internal_filtering_volume = 350.\n",
    "\n",
    "pathogen = create_pathogen(pathogen_name)\n",
    "emissions_calculator = create_emissions_calculator(pathogen)\n",
    "pcrtest = PCRTest()\n",
    "\n",
    "workplace = create_workplace(n_workers=n_workers)"
   ]
  },
  {
   "cell_type": "markdown",
   "id": "9e6ff9e8",
   "metadata": {},
   "source": [
    "# HVAC System"
   ]
  },
  {
   "cell_type": "code",
   "execution_count": 3,
   "id": "98e9d765",
   "metadata": {},
   "outputs": [],
   "source": [
    "if with_hvac:\n",
    "    hvac_box = Box(1., BOX_TYPE.HVAC, 0, name='hvac') \n",
    "    workplace.add_box(hvac_box)\n",
    "\n",
    "    rooms = np.array([\n",
    "        [   0.  ,    0.  ,    0.  ,  270.  ,    0.  , 0.],\n",
    "        [   0.  ,    0.  ,    0.  ,   75.  ,    0.  , 0.],\n",
    "        [   0.  ,    0.  ,    0.  ,  371.25,    0.  , 0.],\n",
    "        [ 270.  ,   75.  ,  371.25,    0.  , 1305.  , 0.],\n",
    "        [   0.  ,    0.  ,    0.  , 1305.  ,    0.  , 0.],\n",
    "        [   0.  ,    0.  ,    0.  ,    0.  ,    0.  , 0.]])\n",
    "\n",
    "    exchange_volumes = [hvac_acph * b.volume for b in workplace.boxes]\n",
    "\n",
    "    hvac_only = np.zeros((len(workplace.boxes), len(workplace.boxes)))\n",
    "    hvac_only[hvac_box.box_index, :] = hvac_only[:,hvac_box.box_index] = exchange_volumes\n",
    "    hvac_only[hvac_box.box_index, hvac_box.box_index] = 0.\n",
    "    hvac_and_rooms = hvac_only + rooms\n",
    "    \n",
    "    total_external_ventilation = external_acph * sum(b.volume for b in workplace.boxes if b.use != BOX_TYPE.HVAC)\n",
    "    default_external_ventilation = np.zeros(len(workplace.boxes))\n",
    "    default_external_ventilation[hvac_box.box_index] = total_external_ventilation\n",
    "\n",
    "else:\n",
    "    default_external_ventilation = [0. if b.use == BOX_TYPE.HVAC else (external_acp * b.volume) for b in workplace.boxes]\n",
    "\n",
    "def reset_ventilation(**kwargs):\n",
    "    kwargs['hvac_box_type'] = BOX_TYPE.HVAC\n",
    "    if 'external_ventilation' not in kwargs:\n",
    "        kwargs['external_ventilation'] = default_external_ventilation\n",
    "               \n",
    "    if with_hvac:\n",
    "        workplace.set_ventilation_properties(hvac_and_rooms, **kwargs)\n",
    "\n",
    "    else:\n",
    "        workplace.set_ventilation_properties(force_standard_hvac_system = True, **kwargs)\n",
    "               \n",
    "reset_ventilation()"
   ]
  },
  {
   "cell_type": "markdown",
   "id": "8408faf0",
   "metadata": {},
   "source": [
    "## Simulations"
   ]
  },
  {
   "cell_type": "markdown",
   "id": "58695c1e",
   "metadata": {},
   "source": [
    "### BAU"
   ]
  },
  {
   "cell_type": "code",
   "execution_count": 4,
   "id": "2e77d94e",
   "metadata": {
    "scrolled": true
   },
   "outputs": [
    {
     "data": {
      "application/vnd.jupyter.widget-view+json": {
       "model_id": "c57e6733f9b046ca809fca1e3c0a79d0",
       "version_major": 2,
       "version_minor": 0
      },
      "text/plain": [
       "  0%|          | 0/192 [00:00<?, ?it/s]"
      ]
     },
     "metadata": {},
     "output_type": "display_data"
    }
   ],
   "source": [
    "results_bau = run_job(workplace, standard_runner, R, 'BAU')"
   ]
  },
  {
   "cell_type": "markdown",
   "id": "30fbf6cc",
   "metadata": {},
   "source": [
    "### Efect of Masks\n",
    "\n",
    "Masks are assumed to be 80% effective at preventing the wearer from becoming infected."
   ]
  },
  {
   "cell_type": "code",
   "execution_count": null,
   "id": "120e85b9",
   "metadata": {
    "scrolled": false
   },
   "outputs": [
    {
     "data": {
      "application/vnd.jupyter.widget-view+json": {
       "model_id": "5ea9287a5753466cbfe86ad8671c0b47",
       "version_major": 2,
       "version_minor": 0
      },
      "text/plain": [
       "  0%|          | 0/192 [00:00<?, ?it/s]"
      ]
     },
     "metadata": {},
     "output_type": "display_data"
    }
   ],
   "source": [
    "Person.ingestion_filter_efficiency = mask_efficiency\n",
    "Person.shedding_filter_efficiency = mask_efficiency\n",
    "results_masks = run_job(workplace, standard_runner, R, 'Masks Only')\n",
    "Person.ingestion_filter_efficiency = 0.\n",
    "Person.shedding_filter_efficiency = 0."
   ]
  },
  {
   "cell_type": "markdown",
   "id": "23c170e5",
   "metadata": {},
   "source": [
    "### Effect of Random Testing\n",
    "\n",
    "Note the dramatic change in the time until detection. This has potentially large bearing on the risk in the broader community."
   ]
  },
  {
   "cell_type": "code",
   "execution_count": null,
   "id": "0c6a40aa",
   "metadata": {},
   "outputs": [],
   "source": [
    "results_testing = run_job(workplace, poc_runner, R, 'Testing Only')"
   ]
  },
  {
   "cell_type": "markdown",
   "id": "ef1dc1f0",
   "metadata": {},
   "source": [
    "### Effect of Random Testing and Masks"
   ]
  },
  {
   "cell_type": "code",
   "execution_count": null,
   "id": "2ec8045e",
   "metadata": {},
   "outputs": [],
   "source": [
    "Person.ingestion_filter_efficiency = mask_efficiency\n",
    "Person.shedding_filter_efficiency = mask_efficiency\n",
    "results_testing_and_masks = run_job(workplace, poc_runner, R, 'Masks and Testing')\n",
    "Person.ingestion_filter_efficiency = 0.\n",
    "Person.shedding_filter_efficiency = 0."
   ]
  },
  {
   "cell_type": "markdown",
   "id": "8110c854",
   "metadata": {},
   "source": [
    "### Don't Allow Meetings"
   ]
  },
  {
   "cell_type": "code",
   "execution_count": null,
   "id": "6dc4b68c",
   "metadata": {},
   "outputs": [],
   "source": [
    "workplace_generators = workplace._generators\n",
    "workplace._generators = set()\n",
    "results_no_meetings = run_job(workplace, standard_runner, R, 'No Meetings')\n",
    "workplace._generators = workplace_generators"
   ]
  },
  {
   "cell_type": "markdown",
   "id": "c6a88409",
   "metadata": {},
   "source": [
    "### Vaccinate Everyone in the Last Six Months"
   ]
  },
  {
   "cell_type": "code",
   "execution_count": null,
   "id": "2f209617",
   "metadata": {},
   "outputs": [],
   "source": [
    "vaccine = Vaccine()\n",
    "def vaccinator(*args):\n",
    "    workplace.reset(full=True)\n",
    "    for person, time in zip(workplace.persons, np.random.randint(-180, 0, size=len(workplace.persons))):\n",
    "        person.vaccinate(time, vaccine)\n",
    "    return no_reset_standard_runner(*args)\n",
    "results_vaccinate = run_job(workplace, vaccinator, R, 'Vaccinations')"
   ]
  },
  {
   "cell_type": "markdown",
   "id": "cfabccb2",
   "metadata": {},
   "source": [
    "### Increase Ventilation"
   ]
  },
  {
   "cell_type": "code",
   "execution_count": null,
   "id": "fbffcd28",
   "metadata": {
    "scrolled": false
   },
   "outputs": [],
   "source": [
    "if with_hvac:\n",
    "    total_external_ventilation = increased_external_acph * sum(b.volume for b in workplace.boxes if b.use != BOX_TYPE.HVAC)\n",
    "    external_ventilation = np.zeros(len(workplace.boxes))\n",
    "    external_ventilation[hvac_box.box_index] = total_external_ventilation\n",
    "\n",
    "else:\n",
    "    external_ventilation = [0. if b.use == BOX_TYPE.HVAC else (increased_external_acph * b.volume) for b in workplace.boxes]\n",
    "\n",
    "reset_ventilation(\n",
    "    external_ventilation = external_ventilation)\n",
    "results_ventilation = run_job(workplace, standard_runner, R, 'Increased Ventilation')\n",
    "reset_ventilation()"
   ]
  },
  {
   "cell_type": "markdown",
   "id": "820d6cc4",
   "metadata": {},
   "source": [
    "### HVAC Return Air Filters "
   ]
  },
  {
   "cell_type": "code",
   "execution_count": null,
   "id": "f25ffa0c",
   "metadata": {},
   "outputs": [],
   "source": [
    "reset_ventilation(\n",
    "    hvac_return_filtering_efficiency = hvac_return_filtering_efficiency)\n",
    "results_hvac_return = run_job(workplace, standard_runner, R, 'HVAC Filters')\n",
    "reset_ventilation()"
   ]
  },
  {
   "cell_type": "markdown",
   "id": "45d19f5e",
   "metadata": {},
   "source": [
    "### Portable Air Filters\n",
    "\n",
    "Volume from https://pursuit.unimelb.edu.au/articles/which-air-cleaners-work-best-to-remove-aerosols-that-contain-viruses"
   ]
  },
  {
   "cell_type": "code",
   "execution_count": null,
   "id": "a8cfbac8",
   "metadata": {},
   "outputs": [],
   "source": [
    "reset_ventilation(\n",
    "    internal_filtering_volume = internal_filtering_volume,\n",
    "    internal_filtering_efficiency = internal_filtering_efficiency)\n",
    "results_portable_filters = run_job(workplace, standard_runner, R, 'Portable Filters')\n",
    "reset_ventilation()"
   ]
  },
  {
   "cell_type": "markdown",
   "id": "9cdb8634",
   "metadata": {},
   "source": [
    "## Save/Load Results"
   ]
  },
  {
   "cell_type": "code",
   "execution_count": null,
   "id": "cdd39c14",
   "metadata": {
    "scrolled": false
   },
   "outputs": [],
   "source": [
    "if run_analyses:\n",
    "    all_results = (\n",
    "        results_bau,\n",
    "        results_masks,\n",
    "        results_testing,\n",
    "        results_testing_and_masks,\n",
    "        results_no_meetings,\n",
    "        results_vaccinate,\n",
    "        results_ventilation,\n",
    "        results_hvac_return,\n",
    "        results_portable_filters)\n",
    "    \n",
    "    with open(output_pickle, 'wb') as pkl:\n",
    "        pickle.dump((all_results, R), pkl)\n",
    "        \n",
    "else:\n",
    "    with open(output_pickle, 'rb') as pkl:\n",
    "        all_results, R = pickle.load(pkl)\n",
    "\n",
    "infection_counts = pd.concat([r[0] for r in all_results])\n",
    "dt = CategoricalDtype(categories=[r[1] for r in all_results], ordered=True)\n",
    "infection_counts['intervention'] = infection_counts['intervention'].astype(dt)"
   ]
  },
  {
   "cell_type": "markdown",
   "id": "58dd752e",
   "metadata": {},
   "source": [
    "## Plots and Tables"
   ]
  },
  {
   "cell_type": "code",
   "execution_count": null,
   "id": "5457ba8c",
   "metadata": {},
   "outputs": [],
   "source": [
    "import matplotlib.font_manager as font_manager\n",
    "\n",
    "# Add every font at the specified location\n",
    "font_dir = ['../fnt']\n",
    "for font in font_manager.findSystemFonts(font_dir):\n",
    "    font_manager.fontManager.addfont(font)\n",
    "\n",
    "# Set font family globally\n",
    "plt.rcParams['font.family'] = 'Palatino'"
   ]
  },
  {
   "cell_type": "code",
   "execution_count": null,
   "id": "495af921",
   "metadata": {},
   "outputs": [],
   "source": [
    "plot_histograms(infection_counts, OUTPUT_BASE_DIR, OUTPUT_PREFIX)"
   ]
  },
  {
   "cell_type": "code",
   "execution_count": null,
   "id": "299deff4",
   "metadata": {
    "scrolled": false
   },
   "outputs": [],
   "source": [
    "means, means_latex = generate_means_tables(\n",
    "    infection_counts, R,\n",
    "    caption = r'Average number of workers infected and average first period in which a case is detected for each intervention considered in stage one when the office has an \\ac{hvac} system. The averages are taken over the simulations used to generate the histograms shown in Figures~\\ref{fig:stage_1_with_hvac_delta_number_infected} and~\\ref{fig:stage_1_with_hvac_delta_period_finished}.',\n",
    "    label = 'tab:stage1_with_hvac_delta_means')\n",
    "\n",
    "with open(opath('means.tex'), 'w') as outf: outf.write(means_latex)\n",
    "print(means)"
   ]
  }
 ],
 "metadata": {
  "kernelspec": {
   "display_name": "Python 3 (ipykernel)",
   "language": "python",
   "name": "python3"
  },
  "language_info": {
   "codemirror_mode": {
    "name": "ipython",
    "version": 3
   },
   "file_extension": ".py",
   "mimetype": "text/x-python",
   "name": "python",
   "nbconvert_exporter": "python",
   "pygments_lexer": "ipython3",
   "version": "3.10.6"
  }
 },
 "nbformat": 4,
 "nbformat_minor": 5
}
