{
 "cells": [
  {
   "cell_type": "markdown",
   "id": "b3e00217",
   "metadata": {},
   "source": [
    "# A Model of the Chorus Hall"
   ]
  },
  {
   "cell_type": "markdown",
   "id": "86265efd",
   "metadata": {},
   "source": [
    "## Imports"
   ]
  },
  {
   "cell_type": "code",
   "execution_count": null,
   "id": "f877e27b-229e-4bac-8465-40bc1fe47915",
   "metadata": {},
   "outputs": [],
   "source": [
    "import os\n",
    "from itertools import repeat\n",
    "from multiprocessing import Pool\n",
    "import numpy as np\n",
    "import pandas as pd\n",
    "import pickle\n",
    "from pandas.api.types import CategoricalDtype\n",
    "import matplotlib.pyplot as plt\n",
    "from tqdm.notebook import tqdm\n",
    "from apsrm import Box\n",
    "from apsrm.config import POOL_NCORES, DEFAULT_STRAIN\n",
    "from apsrm.ext.multiprocessing import ProcessSeeder\n",
    "from apsrm.ext.simulation import (\n",
    "    create_pathogen,\n",
    "    run_simulation,\n",
    "    generate_means_tables)\n",
    "from utils import (\n",
    "    BOX_TYPE,\n",
    "    create_workplace,\n",
    "    create_emissions_calculator)\n",
    "\n",
    "pathogen_name = \"wt\"\n",
    "R = 10000\n",
    "n_singers = 61\n",
    "\n",
    "OUTPUT_BASE_DIR = \"../../../jrsi-article/figs/outputs/choral\"\n",
    "OUTPUT_BASE_DIR = OUTPUT_BASE_DIR if os.path.exists(OUTPUT_BASE_DIR) else \".\"\n",
    "def opath(p): return os.path.join(OUTPUT_BASE_DIR, p)\n",
    "\n",
    "output_pickle = os.path.join(OUTPUT_BASE_DIR, 'all_results.pkl')\n",
    "run_analyses = not os.path.exists(output_pickle)\n",
    "\n",
    "process_seeder = ProcessSeeder()\n",
    "\n",
    "def infectivity(*args, **kwargs):\n",
    "    return 1.0\n",
    "\n",
    "def run_job(runner, R, intervention_name):\n",
    "    if run_analyses:\n",
    "        process_seeder.reset()\n",
    "        with Pool(POOL_NCORES, initializer=process_seeder) as pool:\n",
    "            work = pool.imap_unordered(runner, range(R))\n",
    "            return pd.DataFrame(tqdm(work, total=R)).assign(intervention=intervention_name)\n",
    "\n",
    "def standard_runner(*args):\n",
    "    external_acp = np.random.uniform(0.3, 1.0, size=1)\n",
    "    dieoff_rate = np.random.uniform(0.0, 0.63, size=1) + np.random.uniform(0.3, 1.5, size=1)\n",
    "    breathing_rate = np.random.uniform(0.65, 1.38, size=1)\n",
    "    pathogen = create_pathogen(pathogen_name, dieoff_rate=dieoff_rate, infectivity=infectivity)\n",
    "    emissions_calculator = create_emissions_calculator(breathing_rate)\n",
    "    workplace = create_workplace(n_singers=n_singers, single_box=True)\n",
    "    default_external_ventilation = [0. if b.use == BOX_TYPE.HVAC else (external_acp * b.volume) for b in workplace.boxes]\n",
    "    workplace.set_ventilation_properties(\n",
    "        force_standard_hvac_system = True, \n",
    "        external_ventilation = default_external_ventilation)\n",
    "    return run_simulation(workplace, pathogen, emissions_calculator, stop_at_end_of_period=0)"
   ]
  },
  {
   "cell_type": "markdown",
   "id": "8408faf0",
   "metadata": {},
   "source": [
    "## Simulations"
   ]
  },
  {
   "cell_type": "code",
   "execution_count": null,
   "id": "cdd39c14",
   "metadata": {},
   "outputs": [],
   "source": [
    "if run_analyses:\n",
    "    results_bau = run_job(standard_runner, R, 'BAU')\n",
    "    with open(output_pickle, 'wb') as pkl:\n",
    "        pickle.dump((results_bau, R), pkl)\n",
    "\n",
    "else:\n",
    "    with open(output_pickle, 'rb') as pkl:\n",
    "        results_bau, R = pickle.load(pkl)"
   ]
  },
  {
   "cell_type": "markdown",
   "id": "58dd752e",
   "metadata": {},
   "source": [
    "## Plots and Tables"
   ]
  },
  {
   "cell_type": "code",
   "execution_count": null,
   "id": "5457ba8c",
   "metadata": {},
   "outputs": [],
   "source": [
    "import matplotlib.font_manager as font_manager\n",
    "\n",
    "# Add every font at the specified location\n",
    "font_dir = ['../fnt']\n",
    "for font in font_manager.findSystemFonts(font_dir):\n",
    "    font_manager.fontManager.addfont(font)\n",
    "\n",
    "# Set font family globally\n",
    "plt.rcParams['font.family'] = 'Palatino'"
   ]
  },
  {
   "cell_type": "code",
   "execution_count": null,
   "id": "495af921",
   "metadata": {},
   "outputs": [],
   "source": [
    "def plot_histogram(d,column):\n",
    "    d.hist(\n",
    "        column=column,\n",
    "        align='mid',                                                                                                                                                                                \n",
    "        color='gray', \n",
    "        density=True,\n",
    "        bins=[b - .5 for b in range(20, 62)])\n",
    "\n",
    "plot_histogram(results_bau, \"number_infected\")\n",
    "plt.title('Number Infected')\n",
    "plt.savefig(opath('number_infected_hist.pdf'))#, bbox_inches='tight')"
   ]
  },
  {
   "cell_type": "code",
   "execution_count": null,
   "id": "2078808a-024f-4d13-b9db-cdb0999eeef0",
   "metadata": {},
   "outputs": [],
   "source": [
    "np.mean(results_bau[\"number_infected\"])"
   ]
  },
  {
   "cell_type": "code",
   "execution_count": null,
   "id": "89b5a1d4-3823-4187-9215-b6f243670f69",
   "metadata": {},
   "outputs": [],
   "source": [
    "np.std(results_bau[\"number_infected\"], ddof=1)"
   ]
  }
 ],
 "metadata": {
  "kernelspec": {
   "display_name": "Python 3 (ipykernel)",
   "language": "python",
   "name": "python3"
  },
  "language_info": {
   "codemirror_mode": {
    "name": "ipython",
    "version": 3
   },
   "file_extension": ".py",
   "mimetype": "text/x-python",
   "name": "python",
   "nbconvert_exporter": "python",
   "pygments_lexer": "ipython3",
   "version": "3.8.10"
  }
 },
 "nbformat": 4,
 "nbformat_minor": 5
}
