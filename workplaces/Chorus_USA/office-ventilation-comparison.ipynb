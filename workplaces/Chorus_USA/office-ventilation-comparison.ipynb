{
 "cells": [
  {
   "cell_type": "markdown",
   "id": "b3e00217",
   "metadata": {},
   "source": [
    "# Compare Results With and Without Inter-room Air Movement\n",
    "\n",
    "Here we run two simulations in our simple office. In the first, we only include air exchange between the rooms and the HVAC system, and in the second, we also include air exchange between adjacent rooms.\n",
    "\n",
    "We run the the simulations until our usual stopping rules apply."
   ]
  },
  {
   "cell_type": "markdown",
   "id": "86265efd",
   "metadata": {},
   "source": [
    "## Imports"
   ]
  },
  {
   "cell_type": "code",
   "execution_count": null,
   "id": "ebd5b8c6",
   "metadata": {},
   "outputs": [],
   "source": [
    "import os\n",
    "from itertools import repeat\n",
    "from multiprocessing import Pool\n",
    "import numpy as np\n",
    "import pandas as pd\n",
    "from pandas.api.types import CategoricalDtype\n",
    "import matplotlib.pyplot as plt\n",
    "from tqdm.notebook import tqdm\n",
    "from apsrm import PCRTest, Person, Box\n",
    "from apsrm.config import POOL_NCORES, DEFAULT_STRAIN\n",
    "from apsrm.ext.multiprocessing import ProcessSeeder\n",
    "from apsrm.ext.simulation import (\n",
    "    create_pathogen,\n",
    "    run_simulation,\n",
    "    generate_means_tables,\n",
    "    plot_histograms)\n",
    "from utils import (\n",
    "    BOX_TYPE,\n",
    "    create_workplace,\n",
    "    create_emissions_calculator)\n",
    "\n",
    "OUTPUT_BASE_DIR = './output'\n",
    "OUTPUT_BASE_DIR = OUTPUT_BASE_DIR if os.path.exists(OUTPUT_BASE_DIR) else '.'\n",
    "OUTPUT_PREFIX = 'vent_comp'\n",
    "def opath(p):\n",
    "    return os.path.join(OUTPUT_BASE_DIR, '{}_{}'.format(OUTPUT_PREFIX, p))\n",
    "\n",
    "process_seeder = ProcessSeeder()\n",
    "\n",
    "def run_job(workplace, runner, R, intervention_name):\n",
    "    process_seeder.reset()\n",
    "    with Pool(POOL_NCORES, initializer=process_seeder) as pool:\n",
    "        work = pool.imap_unordered(runner, repeat(workplace, R))\n",
    "        return pd.DataFrame(tqdm(work, total=R)).assign(intervention=intervention_name)\n",
    "\n",
    "def runner(workplace):\n",
    "    workplace.reset(full=True)\n",
    "    return run_simulation(workplace, pathogen, emissions_calculator, pcrtest)"
   ]
  },
  {
   "cell_type": "code",
   "execution_count": null,
   "id": "14e6f370",
   "metadata": {},
   "outputs": [],
   "source": [
    "R = 10000\n",
    "n_singers=61\n",
    "external_acph = 1.\n",
    "hvac_acph = 7.\n",
    "open_plan_space_per_worker = 7.\n",
    "\n",
    "pathogen = create_pathogen(DEFAULT_STRAIN)\n",
    "emissions_calculator = create_emissions_calculator(pathogen)\n",
    "pcrtest = PCRTest()\n",
    "\n",
    "workplace = create_workplace(n_singers = n_singers)\n",
    "hvac_box = Box(1., BOX_TYPE.HVAC, 0, name='hvac') \n",
    "workplace.add_box(hvac_box)"
   ]
  },
  {
   "cell_type": "markdown",
   "id": "961601c5",
   "metadata": {},
   "source": [
    "## Setup HVAC System\n",
    "\n",
    "Create the ventilation matix for the HVAC system"
   ]
  },
  {
   "cell_type": "code",
   "execution_count": null,
   "id": "b3ed3acc",
   "metadata": {},
   "outputs": [],
   "source": [
    "exchange_volumes = [hvac_acph * b.volume for b in workplace.boxes]\n",
    "exchange_volumes[hvac_box.box_index] = 0.\n",
    "\n",
    "hvac_only = np.zeros((len(workplace.boxes), len(workplace.boxes)))\n",
    "hvac_only[hvac_box.box_index, :] = hvac_only[:,hvac_box.box_index] = exchange_volumes\n",
    "\n",
    "total_external_ventilation = external_acph * sum(b.volume for b in workplace.boxes if b.use != BOX_TYPE.HVAC)\n",
    "external_ventilation = np.zeros(len(workplace.boxes))\n",
    "external_ventilation[hvac_box.box_index] = total_external_ventilation"
   ]
  },
  {
   "cell_type": "markdown",
   "id": "d38c38a4",
   "metadata": {},
   "source": [
    "Create the ventilation matrix for the rooms"
   ]
  },
  {
   "cell_type": "code",
   "execution_count": null,
   "id": "d8de393e",
   "metadata": {},
   "outputs": [],
   "source": [
    "rooms = np.array([\n",
    "    [   0.  ,    0.  ,    0.  ,  270.  ,    0.  , 0.],\n",
    "    [   0.  ,    0.  ,    0.  ,   75.  ,    0.  , 0.],\n",
    "    [   0.  ,    0.  ,    0.  ,  371.25,    0.  , 0.],\n",
    "    [ 270.  ,   75.  ,  371.25,    0.  , 1305.  , 0.],\n",
    "    [   0.  ,    0.  ,    0.  , 1305.  ,    0.  , 0.],\n",
    "    [   0.  ,    0.  ,    0.  ,    0.  ,    0.  , 0.]])\n",
    "hvac_and_rooms = hvac_only + rooms"
   ]
  },
  {
   "cell_type": "markdown",
   "id": "617ea9f2",
   "metadata": {},
   "source": [
    "## Simulations"
   ]
  },
  {
   "cell_type": "markdown",
   "id": "522e4d61",
   "metadata": {},
   "source": [
    "### HVAC to Mimic No HVAC"
   ]
  },
  {
   "cell_type": "code",
   "execution_count": null,
   "id": "f2ccd358",
   "metadata": {},
   "outputs": [],
   "source": [
    "workplace.set_ventilation_properties(\n",
    "    external_ventilation = np.array([external_acph * b.volume for b in workplace.boxes]),\n",
    "    force_standard_hvac_system = True)\n",
    "results_zero_hvac = run_job(workplace, runner, R, 'No HVAC')"
   ]
  },
  {
   "cell_type": "markdown",
   "id": "d995c4d3",
   "metadata": {},
   "source": [
    "### HVAC Only\n",
    "\n",
    "Air is only exchanged between the boxes and the HVAC system (i.e., no air moves between the rooms)."
   ]
  },
  {
   "cell_type": "code",
   "execution_count": null,
   "id": "2e77d94e",
   "metadata": {
    "scrolled": true
   },
   "outputs": [],
   "source": [
    "workplace.set_ventilation_properties(\n",
    "    hvac_only,\n",
    "    external_ventilation = external_ventilation)\n",
    "results_hvac_only = run_job(workplace, runner, R, 'HVAC Only')"
   ]
  },
  {
   "cell_type": "markdown",
   "id": "ccf2718a",
   "metadata": {},
   "source": [
    "### HVAC and Connected Boxes\n",
    "\n",
    "Air is exchanged between the boxes and the HVAC system, and directly between the boxes."
   ]
  },
  {
   "cell_type": "code",
   "execution_count": null,
   "id": "8b51f21c",
   "metadata": {},
   "outputs": [],
   "source": [
    "workplace.set_ventilation_properties(\n",
    "    hvac_and_rooms,\n",
    "    external_ventilation = external_ventilation)\n",
    "results_hvac_and_rooms = run_job(workplace, runner, R, 'HVAC and Rooms')"
   ]
  },
  {
   "cell_type": "markdown",
   "id": "e9db092a",
   "metadata": {},
   "source": [
    "### HVAC Only at Half Rate"
   ]
  },
  {
   "cell_type": "code",
   "execution_count": null,
   "id": "84d2ebab",
   "metadata": {},
   "outputs": [],
   "source": [
    "workplace.set_ventilation_properties(\n",
    "    .5 * hvac_only + rooms,\n",
    "    external_ventilation = external_ventilation)\n",
    "results_hvac_half_rate = run_job(workplace, runner, R, '50% HVAC and Rooms')"
   ]
  },
  {
   "cell_type": "markdown",
   "id": "58dd752e",
   "metadata": {},
   "source": [
    "## Plots and Tables"
   ]
  },
  {
   "cell_type": "code",
   "execution_count": null,
   "id": "267a77f0",
   "metadata": {},
   "outputs": [],
   "source": [
    "import matplotlib.font_manager as font_manager\n",
    "\n",
    "# Add every font at the specified location\n",
    "font_dir = ['../fnt']\n",
    "for font in font_manager.findSystemFonts(font_dir):\n",
    "    font_manager.fontManager.addfont(font)\n",
    "\n",
    "# Set font family globally\n",
    "plt.rcParams['font.family'] = 'Palatino'"
   ]
  },
  {
   "cell_type": "code",
   "execution_count": null,
   "id": "299deff4",
   "metadata": {},
   "outputs": [],
   "source": [
    "all_results = (\n",
    "    results_zero_hvac,\n",
    "    results_hvac_only,\n",
    "    results_hvac_and_rooms,\n",
    "    results_hvac_half_rate)\n",
    "infection_counts = pd.concat(all_results)\n",
    "dt = CategoricalDtype(categories=['No HVAC', 'HVAC Only', 'HVAC and Rooms', '50% HVAC and Rooms'], ordered=True)\n",
    "infection_counts['intervention'] = infection_counts['intervention'].astype(dt)\n",
    "plot_histograms(infection_counts, OUTPUT_BASE_DIR, OUTPUT_PREFIX)"
   ]
  },
  {
   "cell_type": "code",
   "execution_count": null,
   "id": "197793d5",
   "metadata": {},
   "outputs": [],
   "source": [
    "means, means_latex = generate_means_tables(\n",
    "    infection_counts, R,\n",
    "    caption = r'Average number of workers infected and average first period in which a case is detected for each HVAC configuration. The averages are taken over the simulations used to generate the histograms shown in Figure~\\ref{fig:vent_comp_number_infected}.',\n",
    "    label = 'tab:vent_comp_means',\n",
    "    baseline_column = 'No HVAC')\n",
    "\n",
    "with open(opath('means.tex'), 'w') as outf: outf.write(means_latex)\n",
    "print(means)"
   ]
  }
 ],
 "metadata": {
  "kernelspec": {
   "display_name": "Python 3 (ipykernel)",
   "language": "python",
   "name": "python3"
  },
  "language_info": {
   "codemirror_mode": {
    "name": "ipython",
    "version": 3
   },
   "file_extension": ".py",
   "mimetype": "text/x-python",
   "name": "python",
   "nbconvert_exporter": "python",
   "pygments_lexer": "ipython3",
   "version": "3.8.10"
  }
 },
 "nbformat": 4,
 "nbformat_minor": 5
}
